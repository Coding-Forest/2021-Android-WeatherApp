{
  "nbformat": 4,
  "nbformat_minor": 0,
  "metadata": {
    "colab": {
      "name": "Android App Project Guide 03 MainActivity_java.ipynb ",
      "provenance": [],
      "collapsed_sections": [],
      "toc_visible": true
    },
    "kernelspec": {
      "name": "python3",
      "display_name": "Python 3"
    },
    "language_info": {
      "name": "python"
    }
  },
  "cells": [
    {
      "cell_type": "markdown",
      "metadata": {
        "id": "-Itp1kCxMTd4"
      },
      "source": [
        "# Android WeatherApp Project Guide for absolute beginners - 3. MainActivity.java\n",
        "\n",
        "I created this guide as a reference for my personal learning on Android app development. The original tutorial available in link in the references below.\n",
        "\n",
        "\n",
        "**References**  \n",
        "- GeeksforGeeks (2021) Making Weather App in Android Studio | Android Projects | GeeksforGeeks https://www.youtube.com/watch?v=q7NF-2gtfEU&t=864s"
      ]
    },
    {
      "cell_type": "code",
      "metadata": {
        "id": "IWrEwJZu2NDe"
      },
      "source": [
        "from google.colab import drive\n",
        "drive.mount('here')"
      ],
      "execution_count": null,
      "outputs": []
    },
    {
      "cell_type": "code",
      "metadata": {
        "id": "JFNGQ5g3x1Ge"
      },
      "source": [
        "import cv2 \n",
        "from google.colab.patches import cv2_imshow\n",
        "\n",
        "def show_img(path):\n",
        "    img = cv2.imread(path)\n",
        "    cv2_imshow(img)"
      ],
      "execution_count": null,
      "outputs": []
    },
    {
      "cell_type": "markdown",
      "metadata": {
        "id": "Wxn8izjbL5q5"
      },
      "source": [
        "# MainActivity.java\n",
        "\n",
        "\n",
        "\n"
      ]
    },
    {
      "cell_type": "markdown",
      "metadata": {
        "id": "ZPtY4aoVMRPM"
      },
      "source": [
        "## 1) Declare API variables\n"
      ]
    },
    {
      "cell_type": "markdown",
      "metadata": {
        "id": "q5n1XlE-2xcS"
      },
      "source": [
        "## 2) Initialise them in `onCreate`\n",
        "inside the **`protected void onCreate(Bundle savedInstanceState){}`** method"
      ]
    },
    {
      "cell_type": "markdown",
      "metadata": {
        "id": "MCYXCj-YMBtt"
      },
      "source": [
        "### `setAdapter()`\n",
        "\n",
        "- Excerpt from StackOverFlow:\n",
        "\n",
        "\n",
        "    mDrawerList.setAdapter(new ArrayAdapter<String>\n",
        "    (this,R.layout.drawer_list_item, mServices));\n",
        "\n",
        "\n",
        "A list adapter is an object that adapts a collection objects for display in a ListView. ArrayAdapter is one simple implementation that maps an array of objects.\n",
        "\n",
        "This line is mapping an array of strings (mServices) for display in a ListView (mDrawerList). The second argument to the adapter's constructor is the layout that will be used to render each list item.\n",
        "\n",
        "- https://stackoverflow.com/questions/33703548/how-to-use-setadapter"
      ]
    },
    {
      "cell_type": "code",
      "metadata": {
        "id": "4k9fSYNK2qrS"
      },
      "source": [
        "# MainActivity.java\n",
        "\n",
        "public class MainActivity extends AppCompatActivity {\n",
        "\n",
        "    # Declare variables with there id's.\n",
        "    private RelativeLayout homeRL;\n",
        "\n",
        "    ...\n",
        "\n",
        "    private ImageView backIV, iconIV, searchIV;\n",
        "\n",
        "    # Add WeatherRVModal variable here.\n",
        "    # then initialise these down below in onCreate too.\n",
        "    private ArrayList<WeatherRVModal> weatherRVModalArrayList;\n",
        "    private WeatherRVAdapter weatherRVAdapter;  # adaptor class\n",
        "\n",
        "    @Override\n",
        "    protected void onCreate(Bundle savedInstanceState) {\n",
        "        super.onCreate(savedInstanceState);\n",
        "        setContentView(R.layout.activity_main);\n",
        "\n",
        "        # initialise the variables here.\n",
        "        homeRL = findViewById(R.id.idRLHome);\n",
        "\n",
        "        ...\n",
        "\n",
        "        searchIV = findViewById(R.id.idIVSearch);\n",
        "            \n",
        "        # API we will going to use.\n",
        "        weatherRVModalArrayList = new ArrayList<>();\n",
        "        # Init ialise the adapter.\n",
        "        weatherRVAdapter = new WeatherRVAdapter(this, weatherRVModalArrayList);\n",
        "        # Set this adapter to the RecyclerView.\n",
        "        weatherRV.setAdapter(weatherRVAdapter);\n",
        "\n",
        "        # Inisialise the LocationManager.\n",
        "        locationManager = (LocationManager) getSystemService(Context.LOCATION_SERVICE);\n",
        "    }\n",
        "\n",
        "..."
      ],
      "execution_count": null,
      "outputs": []
    },
    {
      "cell_type": "markdown",
      "metadata": {
        "id": "4qh3p2IANwMh"
      },
      "source": [
        "## 3) Get weather info"
      ]
    },
    {
      "cell_type": "code",
      "metadata": {
        "id": "2GR-jswSOY0C"
      },
      "source": [
        "...\n",
        "\n",
        "    # Create a method for weather info,\n",
        "    # and another for user location.\n",
        "    private  void getWeatherInfo(String cityName){\n",
        "\n",
        "        # Parse the data from API.\n",
        "        # so first, create a url.\n",
        "        String url = \"http://api.weatherapi.com/v1/forecast.json?key=34a7fe8762854dd7b8765811212509&q=\" +cityName+ \"&days=1&aqi=yes&alerts=yes\";\n",
        "\n",
        "        cityNameTV.setText(cityName);\n",
        "\n",
        "        # Create a variabel RequestQueue\n",
        "        RequestQueue requestQueue = Volley.newRequestQueue(MainActivity.this);\n",
        "\n",
        "        # The weather API is a json object, so we have to make a json object request.\n",
        "        JsonObjectRequest jsonObjectRequest = new JsonObjectRequest(Request.Method.GET, url, null, new Response.Listener<JSONObject>() {\n",
        "            @Override\n",
        "            public void onResponse(JSONObject response) {\n",
        "                loadingPB.setVisibility(View.GONE);\n",
        "                homeRL.setVisibility(View.VISIBLE);\n",
        "                weatherRVModalArrayList.clear();\n",
        "\n",
        "                # Take a close look at the syntax of accessing the data in Json format.\n",
        "                try {\n",
        "                    String temperature = response.getJSONObject(\"current\").getString(\"temp_c\");\n",
        "                    temperatureTV.setText(temperature + \"°c\");\n",
        "                    int isDay = response.getJSONObject(\"current\").getInt(\"is_day\");\n",
        "                    String condition = response.getJSONObject(\"current\").getJSONObject(\"condition\").getString(\"text\");\n",
        "                    String conditionIcon = response.getJSONObject(\"current\").getJSONObject(\"condition\").getString(\"icon\");\n",
        "                    Picasso.get().load(\"http:\".concat(conditionIcon)).into(iconIV);\n",
        "                    conditionTV.setText(condition);\n",
        "\n",
        "                    # Switch background colour\n",
        "                    if (isDay==1) {\n",
        "                        # Morning\n",
        "                        Picasso.get().load(\"@assets/day light.jpg\").into(backIV)\n",
        "                    } else {\n",
        "                        # Night\n",
        "                        Picasso.get().load(\"@assets/night sky.jpg\").into(backIV);\n",
        "                    }\n",
        "\n",
        "                    JSONObject forecastObj = response.getJSONObject(\"forecast\");\n",
        "                    JSONObject forecastArr = forecastObj.getJSONArray(\"forecastday\").getJSONObject(0);\n",
        "                    JSONArray hourArray = forecastArr.getJSONArray(\"hour\");\n",
        "\n",
        "                    for(int i=0; i < hourArray.length(); i++) {\n",
        "                        JSONObject hourObj = hourArray.getJSONObject(i);\n",
        "\n",
        "                        # Create variables to store the fetched data.\n",
        "                        String time = hourObj.getString(\"time\");\n",
        "                        String temp_c = hourObj.getString(\"temp_c\");\n",
        "                        String icon = hourObj.getJSONObject(\"condition\").getString(\"icon\");\n",
        "                        String wind_kph = hourObj.getString(\"wind_kph\");\n",
        "                        weatherRVModalArrayList.add(new WeatherRVModal(time, temp_c, icon, wind_kph));\n",
        "                    }\n",
        "\n",
        "                    # Notify adaptor about these variables.\n",
        "                    weatherRVAdapter.notifyDataSetChanged();\n",
        "\n",
        "\n",
        "\n",
        "                } catch (JSONException e) {\n",
        "                    e.printStackTrace();\n",
        "                }\n",
        "            }\n",
        "        }, new Response.ErrorListener() {\n",
        "            @Override\n",
        "            public void onErrorResponse(VolleyError error) {\n",
        "                Toast.makeText(MainActivity.this, \"Please enter valid city name\", Toast.LENGTH_SHORT).show();\n",
        "            }\n",
        "        });\n",
        "\n",
        "\n",
        "    }\n"
      ],
      "execution_count": null,
      "outputs": []
    },
    {
      "cell_type": "markdown",
      "metadata": {
        "id": "HuYK_Q3hVEzb"
      },
      "source": [
        "## 4) Get city name\n",
        "\n",
        "1) Create a method that gets the city name from the API latitude and longitude data.  \n",
        "2) Initialise with \"Not found\" in case the method fails to get longitude & latitude values."
      ]
    },
    {
      "cell_type": "code",
      "metadata": {
        "id": "OnTZgrayVEs3"
      },
      "source": [
        "    ...\n",
        "\n",
        "    @Override\n",
        "    protected void onCreate(Bundle savedInstanceState) {\n",
        "        super.onCreate(savedInstanceState);\n",
        "\n",
        "    ...\n",
        "\n",
        "    # 1) Create a method\n",
        "    private String getCityName(double longitude, double latitude){\n",
        "        # 2) Initialise CityName.\n",
        "        String cityName = \"Not found\";\n",
        "        Geocoder gcd = new Geocoder(getBaseContext(), Locale.getDefault());\n",
        "        try {\n",
        "            List<Address> addresses = gcd.getFromLocation(latitude, longitude, 10);\n",
        "\n",
        "            for (Address adr: addresses){\n",
        "                if (adr!=null){                           # if the locality data is there,\n",
        "                    String city = adr.getLocality();      # get that data.\n",
        "                    if (city!=null && !city.equals(\"\")){  # check if the locality data is correct.\n",
        "                        cityName = city;                  # update cityName with that screened data.\n",
        "                    } else {\n",
        "                        Log.d(\"TAG\", \"CITY NOT FOUND\");\n",
        "                        Toast.makeText(this, \"User City Not Found\", Toast.LENGTH_SHORT).show();\n",
        "                    }\n",
        "                }\n",
        "            }\n",
        "        } catch (IOException e){\n",
        "            e.printStackTrace();\n",
        "        }\n",
        "\n",
        "        return cityName;\n",
        "\n",
        "    }\n",
        "\n",
        "    ..."
      ],
      "execution_count": null,
      "outputs": []
    },
    {
      "cell_type": "markdown",
      "metadata": {
        "id": "LQHRncTZT085"
      },
      "source": [
        "## 5) Get User Location"
      ]
    },
    {
      "cell_type": "markdown",
      "metadata": {
        "id": "7RfVJPksNwEc"
      },
      "source": [
        "### 5-1) Configure Internet Permission in `AndroidManifest.xml`"
      ]
    },
    {
      "cell_type": "code",
      "metadata": {
        "id": "qvGa_tZqN4Y_"
      },
      "source": [
        "<?xml version=\"1.0\" encoding=\"utf-8\"?>\n",
        "<manifest xmlns:android=\"http://schemas.android.com/apk/res/android\"\n",
        "    package=\"com.example.weatherapp\" >\n",
        "\n",
        "    # Configure Internet Permission to use the user's current location..\n",
        "    <uses-permission android:name=\"android.permission.INTERNET\"/>\n",
        "    <uses-permission android:name=\"android.permission.ACCESS_NETWORK_STATE\"/>\n",
        "    <uses-permission android:name=\"android.permission.ACCESS_COARSE_LOCATION\"/>\n",
        "    <uses-permission android:name=\"android.permission.ACCESS_FINE_LOCATION\"/>\n",
        "\n",
        "    <application\n",
        "    \n",
        "    ...\n",
        "\n",
        "</manifest>    "
      ],
      "execution_count": null,
      "outputs": []
    },
    {
      "cell_type": "markdown",
      "metadata": {
        "id": "6a5BYU59Te16"
      },
      "source": [
        "### 5-2) Variables - `LocationManager` & `PERMISSION_CODE`"
      ]
    },
    {
      "cell_type": "code",
      "metadata": {
        "id": "LijxjBcWLzka"
      },
      "source": [
        "public class MainActivity extends AppCompatActivity {\n",
        "\n",
        "    ...\n",
        "\n",
        "    # User location-related variables\n",
        "    # We need to ask for permission first when using user's current location.\n",
        "    private LocationManager locationManager;\n",
        "    private int PERMISSION_CODE = 1;\n",
        "\n",
        "    ..."
      ],
      "execution_count": null,
      "outputs": []
    },
    {
      "cell_type": "markdown",
      "metadata": {
        "id": "QJVU9UsyUa0p"
      },
      "source": [
        "### 5-3) `LocationManager`\n"
      ]
    },
    {
      "cell_type": "markdown",
      "metadata": {
        "id": "E3QPwE5E64gu"
      },
      "source": [
        "#### Inisialise and Check Permission\n",
        "- 1) Inisialise the LocationManager.\n",
        "- 2) Check whether the user has granted permission or not. If the permission is not granted, ask the user to grant the permission."
      ]
    },
    {
      "cell_type": "code",
      "metadata": {
        "id": "a8jAyfknUbH0"
      },
      "source": [
        "    ...\n",
        "\n",
        "    @Override\n",
        "    protected void onCreate(Bundle savedInstanceState) {\n",
        "        super.onCreate(savedInstanceState);\n",
        "\n",
        "        ...\n",
        "\n",
        "        # 1) Inisialise the LocationManager.\n",
        "        locationManager = (LocationManager) getSystemService(Context.LOCATION_SERVICE);\n",
        "        # 2) Permission check=\n",
        "        if(ActivityCompat.checkSelfPermission(this, Manifest.permission.ACCESS_FINE_LOCATION)!= PackageManager.PERMISSION_GRANTED && ActivityCompat.checkSelfPermission(this,Manifest.permission.ACCESS_COARSE_LOCATION)!=PackageManager.PERMISSION_GRANTED) {\n",
        "            ActivityCompat.requestPermissions(MainActivity.this, new String[]{Manifest.permission.ACCESS_FINE_LOCATION, Manifest.permission.ACCESS_COARSE_LOCATION}, PERMISSION_CODE);\n",
        "        }\n",
        "\n",
        "        ..."
      ],
      "execution_count": null,
      "outputs": []
    },
    {
      "cell_type": "markdown",
      "metadata": {
        "id": "zIrWu5I57FJv"
      },
      "source": [
        "#### Get user's current location"
      ]
    },
    {
      "cell_type": "markdown",
      "metadata": {
        "id": "buLKqQLl7WNs"
      },
      "source": [
        "#### Update city name and geolocation"
      ]
    },
    {
      "cell_type": "code",
      "metadata": {
        "id": "WbV3jwBG7FhZ"
      },
      "source": [
        "        ...\n",
        "\n",
        "        # Once the permission is granted,\n",
        "        Location location = locationManager.getLastKnownLocation(LocationManager.NETWORK_PROVIDER);\n",
        "        # Get the user's city name using uer's current location obtained upon the granted permission.\n",
        "        String cityName = getCityName(location.getLongitude(), location.getLatitude());\n",
        "        # Pass the obtained cityName into getWeatherInfo to fetch the weather info.\n",
        "        getWeatherInfo(cityName);\n",
        "\n",
        "        searchIV.setOnClickListener(new View.OnClickListener(){\n",
        "          @Override\n",
        "          public void onClick(View v) {\n",
        "              # Whatever user types on the city edit search bar (@id/idEditCity)\n",
        "              # Turn the input into a string\n",
        "              String city = cityEdt.getText().toString();\n",
        "\n",
        "              # If no input, alert the user to enter something.\n",
        "              if (city.isEmpty()){\n",
        "                  Toast.makeText(MainActivity.this, \"Please enter city name\", Toast.LENGTH_SHORT).show();\n",
        "              } else {\n",
        "                  # if any input,\n",
        "                  cityNameTV.setText(cityName);  # Update the city name display bar with the inputted text (city name)\n",
        "                  getWeatherInfo(city);          # and fetch weather info.\n",
        "              }\n",
        "            }\n",
        "        });\n",
        "    }\n",
        "    \n",
        "    ..."
      ],
      "execution_count": null,
      "outputs": []
    },
    {
      "cell_type": "markdown",
      "metadata": {
        "id": "Zad73Fjv9Kdq"
      },
      "source": [
        "#### `onRequestPermissionsResult`\n",
        "- Handle the user response: \n",
        "  - if permissions granted: show granted status message. \n",
        "  - if denied: show denied status message and close the app."
      ]
    },
    {
      "cell_type": "code",
      "metadata": {
        "id": "3lU_EAfB9KzP"
      },
      "source": [
        "    ...\n",
        "    \n",
        "    # Once the permission is granted by the user,\n",
        "    # You can call this built-in method automatically.\n",
        "    @Override\n",
        "    public void onRequestPermissionsResult(int requestCode, @NonNull String[] permissions, @NonNull int[] grantResults) {\n",
        "        super.onRequestPermissionsResult(requestCode, permissions, grantResults);\n",
        "        if (requestCode==PERMISSION_CODE) {\n",
        "            if (grantResults.length > 0 && grantResults[0] == PackageManager.PERMISSION_GRANTED) {\n",
        "                Toast.makeText(this, \"Permissions granted\", Toast.LENGTH_SHORT).show();\n",
        "            } else {\n",
        "                Toast.makeText(this, \"Please provide permissions\", Toast.LENGTH_SHORT).show();\n",
        "                finish();\n",
        "            }\n",
        "        }\n",
        "    }\n",
        "\n",
        "    ..."
      ],
      "execution_count": null,
      "outputs": []
    },
    {
      "cell_type": "markdown",
      "metadata": {
        "id": "NF8NLXf3QOSe"
      },
      "source": [
        "## 6) Set App Icon\n"
      ]
    },
    {
      "cell_type": "code",
      "metadata": {
        "id": "gcXVoFJeQSGE"
      },
      "source": [
        "<?xml version=\"1.0\" encoding=\"utf-8\"?>\n",
        "<manifest xmlns:android=\"http://schemas.android.com/apk/res/android\"\n",
        "    package=\"com.example.weatherapp\" >\n",
        "\n",
        "    <uses-permission android:name=\"android.permission.INTERNET\"/>\n",
        "    ...\n",
        "\n",
        "    <application\n",
        "        android:allowBackup=\"true\"\n",
        "        android:icon=\"@drawable/cloudy\"         # set this to the icon of your choice.\n",
        "        android:label=\"@string/app_name\"\n",
        "        android:roundIcon=\"@drawable/cloudy\"    # set this to the icon of your choice.\n",
        "        android:supportsRtl=\"true\"\n",
        "        android:theme=\"@style/Theme.WeatherApp\" >\n",
        "\n",
        "    ...\n",
        "\n",
        "    </application>\n",
        "\n",
        "</manifest>"
      ],
      "execution_count": null,
      "outputs": []
    }
  ]
}
